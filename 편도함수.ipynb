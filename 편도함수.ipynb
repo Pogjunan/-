{
 "cells": [
  {
   "cell_type": "raw",
   "id": "7d9a7bfe-5f9d-414c-89e7-336933d39f2c",
   "metadata": {},
   "source": [
    "---\n",
    "title: \"편도함수 : 하루만에 끝내는 미적분학2\"\n",
    "author: \"전준한\"\n",
    "date: \"06/12/2023\"\n",
    "categories:\n",
    "  - 편도함수\n",
    "  - 수학\n",
    "  - 미적분\n",
    "---"
   ]
  },
  {
   "cell_type": "markdown",
   "id": "063ff7b2-8477-4767-ab70-a5ca62658b06",
   "metadata": {},
   "source": [
    "# 1. 편도함수\n",
    "\n",
    "- 다변수 함수\n",
    "\n"
   ]
  },
  {
   "cell_type": "markdown",
   "id": "3bffa977-3ff0-4545-b087-012a0f201732",
   "metadata": {},
   "source": [
    "### `-` 다변수함수\n",
    "\n",
    "- 일반적으로 독립 변수와 종속 변수로 나누어지며 $ z = f(x,y) $ 에서 점 $(x,y) $ 에서 $x$ 와 $y$ 를 <b>독립변수</b> , $z $ 를 <b>종속변수</b> 라 한다."
   ]
  },
  {
   "cell_type": "markdown",
   "id": "7675686e-fc25-41cb-bad2-4513cfabffb8",
   "metadata": {},
   "source": [
    "[문제]\n",
    "\n",
    "$$\n",
    "f(x, y) = \\frac{\\sqrt{x + y + 1}}{x - 1}\r",
    "$$\r",
    "f(3,2) 를 찾아라.\n",
    "[풀이]\n",
    "넣으면 됨 . $$ \\frac{\\sqrt{6}}{2} $$\n",
    "$\r\n"
   ]
  },
  {
   "cell_type": "markdown",
   "id": "32ba0523-c8c9-4ec5-be72-063fd6418ecd",
   "metadata": {},
   "source": [
    "`-` 다변수 함수의 그래프 그리기.\n",
    "\n",
    "- $ f(x,y) = 6-3x-2y $ 의 그래프를 그려라.\n",
    "\n",
    "- $ g(x,y) = \\sqrt{9-x^2-y^2} $ 의 그래프를 그려라."
   ]
  },
  {
   "cell_type": "markdown",
   "id": "2772d78a-e5cc-4a2c-b955-3fd54f443ce1",
   "metadata": {},
   "source": [
    "$ sol) $\n",
    "<br>\n",
    "[1] f(x,y)= $ ax + by +c $ 는 특별한 경우이다.\n",
    " 이 함수는 평면을 의미하여 2가지의 변수에 0 을 대입하여 절편을 통해 그림을 그릴 수 있다.\n",
    " 결론 : (2,0,0) , (0,3,0) , (0,0,6) 을 지난다.\n",
    "\n",
    "[2] g(x,y) = z 라고 두고 양변에 제곱을 한다.\n",
    "$ z^2 = 9 -x^2-y^2 $ 곧 이는 $ x^2+y^2+z^2 = 9 $ 이다.\n",
    "이는 중심이 원점이고 반지름 3 인 구면의 방정식이다.\n",
    "하지만 원형이 루트 안에 있기 때문에 $ z \\geq 0 $ 이 성립하므로 g 으 ㅣ그래프는 $z$ 가 양수인 구면의 위쪽이다."
   ]
  },
  {
   "cell_type": "markdown",
   "id": "ed185b7e-1dd6-4c4b-b539-dcf300ac42d6",
   "metadata": {},
   "source": [
    "# `-` 편도함수"
   ]
  },
  {
   "cell_type": "markdown",
   "id": "8fb83490-b27e-4224-bfd6-579bd7c71a16",
   "metadata": {},
   "source": [
    "---\n",
    "<b>편미분 계수의 해석 </b>\n",
    "---\n",
    "\n",
    "곡면 $S$ 는 $ z = f(x,y) $ 의 방정식에 의해 만들어집니다.\n",
    "<br>\n",
    "$f(a,b) = c$ 라면 $P(a,b,c)$ 는 $S$ 곡면 위에 존재합니다.\n",
    "<br>\n",
    "`-` 이제 y=b 를 고정하면 평면이 고정된 상태로 S 는 $a 와 c$ 의 접하는 교선을 가집니다.\n",
    "이 접선에 대해 $ g(x)=f(x,b)$ 의 그래프라하고 이 때 x=a 에서 x 에 대해 편미분 $g`(a)=f_x(a,b) $ , $ g`(b) = f_y(a,b) $ 를 각각 $P(a,b,c) $ 에서의 \n",
    "<br>\n",
    "$g \\prime (a)$ 는 y=b 에서의 기울기\n",
    "<br>\n",
    "$g \\prime (b)$ 는 x=a 에서의 기울기가 됩니다.\n",
    "\n",
    "이를 $"
   ]
  },
  {
   "cell_type": "code",
   "execution_count": null,
   "id": "00313a5a-4e89-4851-916d-151a8c54c3e0",
   "metadata": {},
   "outputs": [],
   "source": []
  }
 ],
 "metadata": {
  "kernelspec": {
   "display_name": "Python (hf)",
   "language": "python",
   "name": "hf"
  },
  "language_info": {
   "codemirror_mode": {
    "name": "ipython",
    "version": 3
   },
   "file_extension": ".py",
   "mimetype": "text/x-python",
   "name": "python",
   "nbconvert_exporter": "python",
   "pygments_lexer": "ipython3",
   "version": "3.10.13"
  }
 },
 "nbformat": 4,
 "nbformat_minor": 5
}
