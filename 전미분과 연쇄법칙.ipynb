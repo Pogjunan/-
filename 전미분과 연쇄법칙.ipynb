{
 "cells": [
  {
   "cell_type": "markdown",
   "id": "9212f256-ff3a-4137-b4cf-8bbfa641e8c7",
   "metadata": {},
   "source": [
    "---\n",
    "전미분과 연쇄법칙\n",
    "---\n",
    "\n",
    "`-` 연쇄법칙 : Deeplearning 의 모든 노드가 연결될 때 계산 식을 뜯어볼 필요성이 있다.\n",
    "  - 연쇄법칙으로 각각의 미분의 중간과정은 같다는 것을 이용하여 효과적으로 식 정리를 쉽게 할 수 있다.\n",
    "  - 전미분에서 일부를 빼내어 편미분과정에서 수식적 이득을 보는 것이다.\n",
    "  - 연쇄법칙은 backpropagation(오차역전파)에서 도움이 된다."
   ]
  },
  {
   "cell_type": "code",
   "execution_count": null,
   "id": "67007033-65eb-4005-8fdd-8f8cbf8c3499",
   "metadata": {},
   "outputs": [],
   "source": []
  }
 ],
 "metadata": {
  "kernelspec": {
   "display_name": "Python (hf)",
   "language": "python",
   "name": "hf"
  },
  "language_info": {
   "codemirror_mode": {
    "name": "ipython",
    "version": 3
   },
   "file_extension": ".py",
   "mimetype": "text/x-python",
   "name": "python",
   "nbconvert_exporter": "python",
   "pygments_lexer": "ipython3",
   "version": "3.10.13"
  }
 },
 "nbformat": 4,
 "nbformat_minor": 5
}
