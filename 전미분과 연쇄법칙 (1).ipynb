{
 "cells": [
  {
   "cell_type": "markdown",
   "id": "9212f256-ff3a-4137-b4cf-8bbfa641e8c7",
   "metadata": {},
   "source": [
    "---\n",
    "전미분과 연쇄법칙\n",
    "---\n",
    "\n",
    "`-` 연쇄법칙 : Deeplearning 의 모든 노드가 연결될 때 계산 식을 뜯어볼 필요성이 있다.\n",
    "  - 연쇄법칙으로 각각의 미분의 중간과정은 같다는 것을 이용하여 효과적으로 식 정리를 쉽게 할 수 있다.\n",
    "  - 전미분에서 일부를 빼내어 편미분과정에서 수식적 이득을 보는 것이다.\n",
    "  - 연쇄법칙은 backpropagation(오차역전파)에서 도움이 된다."
   ]
  },
  {
   "cell_type": "markdown",
   "id": "b30eaf36-d357-4fce-b2b0-5514bf2e7135",
   "metadata": {},
   "source": [
    ">"
   ]
  },
  {
   "cell_type": "markdown",
   "id": "b8c3a7fa-94c4-48b7-8262-c2dcc4fb95d2",
   "metadata": {},
   "source": [
    "이해에 도움되는 사이트 : https://velog.io/@beomsoo0/8.-%EB%94%A5%EB%9F%AC%EB%8B%9D-Back-propagation%EC%98%A4%EC%B0%A8%EC%97%AD%EC%A0%84%ED%8C%8C\n",
    "- offtherecord : 전미분과 연쇄법칙에 대해서는 미적분학(2번째학기)에서 배웠지만 단순한 문제풀이로 생각하고는 열심히 하지않았었다. 이에 다시 공투하니 이 당시에 연쇄법칙의 수식적 이득뿐아니라 미분행렬로 최소값,최대값,안장점에 대해서도 공식으로 배웠다는 것을 깨닫고 다 외웠다."
   ]
  },
  {
   "cell_type": "code",
   "execution_count": null,
   "id": "080c222d-fa68-4e33-8860-43247f9df88d",
   "metadata": {},
   "outputs": [],
   "source": []
  }
 ],
 "metadata": {
  "kernelspec": {
   "display_name": "Python (hf)",
   "language": "python",
   "name": "hf"
  },
  "language_info": {
   "codemirror_mode": {
    "name": "ipython",
    "version": 3
   },
   "file_extension": ".py",
   "mimetype": "text/x-python",
   "name": "python",
   "nbconvert_exporter": "python",
   "pygments_lexer": "ipython3",
   "version": "3.10.13"
  }
 },
 "nbformat": 4,
 "nbformat_minor": 5
}
